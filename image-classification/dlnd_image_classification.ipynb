{
 "cells": [
  {
   "cell_type": "markdown",
   "metadata": {
    "collapsed": true,
    "deletable": true,
    "editable": true
   },
   "source": [
    "# Image Classification\n",
    "In this project, you'll classify images from the [CIFAR-10 dataset](https://www.cs.toronto.edu/~kriz/cifar.html).  The dataset consists of airplanes, dogs, cats, and other objects. You'll preprocess the images, then train a convolutional neural network on all the samples. The images need to be normalized and the labels need to be one-hot encoded.  You'll get to apply what you learned and build a convolutional, max pooling, dropout, and fully connected layers.  At the end, you'll get to see your neural network's predictions on the sample images.\n",
    "## Get the Data\n",
    "Run the following cell to download the [CIFAR-10 dataset for python](https://www.cs.toronto.edu/~kriz/cifar-10-python.tar.gz)."
   ]
  },
  {
   "cell_type": "code",
   "execution_count": 1,
   "metadata": {
    "collapsed": false,
    "deletable": true,
    "editable": true
   },
   "outputs": [
    {
     "name": "stderr",
     "output_type": "stream",
     "text": [
      "CIFAR-10 Dataset: 171MB [00:24, 6.83MB/s]                              \n"
     ]
    },
    {
     "name": "stdout",
     "output_type": "stream",
     "text": [
      "All files found!\n"
     ]
    }
   ],
   "source": [
    "\"\"\"\n",
    "DON'T MODIFY ANYTHING IN THIS CELL THAT IS BELOW THIS LINE\n",
    "\"\"\"\n",
    "from urllib.request import urlretrieve\n",
    "from os.path import isfile, isdir\n",
    "from tqdm import tqdm\n",
    "import problem_unittests as tests\n",
    "import tarfile\n",
    "\n",
    "cifar10_dataset_folder_path = 'cifar-10-batches-py'\n",
    "\n",
    "class DLProgress(tqdm):\n",
    "    last_block = 0\n",
    "\n",
    "    def hook(self, block_num=1, block_size=1, total_size=None):\n",
    "        self.total = total_size\n",
    "        self.update((block_num - self.last_block) * block_size)\n",
    "        self.last_block = block_num\n",
    "\n",
    "if not isfile('cifar-10-python.tar.gz'):\n",
    "    with DLProgress(unit='B', unit_scale=True, miniters=1, desc='CIFAR-10 Dataset') as pbar:\n",
    "        urlretrieve(\n",
    "            'https://www.cs.toronto.edu/~kriz/cifar-10-python.tar.gz',\n",
    "            'cifar-10-python.tar.gz',\n",
    "            pbar.hook)\n",
    "\n",
    "if not isdir(cifar10_dataset_folder_path):\n",
    "    with tarfile.open('cifar-10-python.tar.gz') as tar:\n",
    "        tar.extractall()\n",
    "        tar.close()\n",
    "\n",
    "\n",
    "tests.test_folder_path(cifar10_dataset_folder_path)"
   ]
  },
  {
   "cell_type": "markdown",
   "metadata": {
    "deletable": true,
    "editable": true
   },
   "source": [
    "## Explore the Data\n",
    "The dataset is broken into batches to prevent your machine from running out of memory.  The CIFAR-10 dataset consists of 5 batches, named `data_batch_1`, `data_batch_2`, etc.. Each batch contains the labels and images that are one of the following:\n",
    "* airplane\n",
    "* automobile\n",
    "* bird\n",
    "* cat\n",
    "* deer\n",
    "* dog\n",
    "* frog\n",
    "* horse\n",
    "* ship\n",
    "* truck\n",
    "\n",
    "Understanding a dataset is part of making predictions on the data.  Play around with the code cell below by changing the `batch_id` and `sample_id`. The `batch_id` is the id for a batch (1-5). The `sample_id` is the id for a image and label pair in the batch.\n",
    "\n",
    "Ask yourself \"What are all possible labels?\", \"What is the range of values for the image data?\", \"Are the labels in order or random?\".  Answers to questions like these will help you preprocess the data and end up with better predictions."
   ]
  },
  {
   "cell_type": "code",
   "execution_count": 2,
   "metadata": {
    "collapsed": false,
    "deletable": true,
    "editable": true
   },
   "outputs": [
    {
     "name": "stdout",
     "output_type": "stream",
     "text": [
      "\n",
      "Stats of batch 3:\n",
      "Samples: 10000\n",
      "Label Counts: {0: 994, 1: 1042, 2: 965, 3: 997, 4: 990, 5: 1029, 6: 978, 7: 1015, 8: 961, 9: 1029}\n",
      "First 20 Labels: [8, 5, 0, 6, 9, 2, 8, 3, 6, 2, 7, 4, 6, 9, 0, 0, 7, 3, 7, 2]\n",
      "\n",
      "Example of Image 6:\n",
      "Image - Min Value: 30 Max Value: 242\n",
      "Image - Shape: (32, 32, 3)\n",
      "Label - Label Id: 8 Name: ship\n"
     ]
    },
    {
     "data": {
      "image/png": "[encoded data removed]",
      "text/plain": [
       "<matplotlib.figure.Figure at 0x7fd81b4e0a20>"
      ]
     },
     "metadata": {
      "image/png": {
       "height": 250,
       "width": 253
      }
     },
     "output_type": "display_data"
    }
   ],
   "source": [
    "%matplotlib inline\n",
    "%config InlineBackend.figure_format = 'retina'\n",
    "\n",
    "import helper\n",
    "import numpy as np\n",
    "\n",
    "# Explore the dataset\n",
    "batch_id = 3\n",
    "sample_id = 6\n",
    "helper.display_stats(cifar10_dataset_folder_path, batch_id, sample_id)"
   ]
  },
  {
   "cell_type": "markdown",
   "metadata": {
    "deletable": true,
    "editable": true
   },
   "source": [
    "## Implement Preprocess Functions\n",
    "### Normalize\n",
    "In the cell below, implement the `normalize` function to take in image data, `x`, and return it as a normalized Numpy array. The values should be in the range of 0 to 1, inclusive.  The return object should be the same shape as `x`."
   ]
  },
  {
   "cell_type": "code",
   "execution_count": 3,
   "metadata": {
    "collapsed": false,
    "deletable": true,
    "editable": true
   },
   "outputs": [
    {
     "name": "stdout",
     "output_type": "stream",
     "text": [
      "Tests Passed\n"
     ]
    }
   ],
   "source": [
    "def normalize(x):\n",
    "    \"\"\"\n",
    "    Normalize a list of sample image data in the range of 0 to 1\n",
    "    : x: List of image data.  The image shape is (32, 32, 3)\n",
    "    : return: Numpy array of normalize data\n",
    "    \"\"\"\n",
    "    min = 0\n",
    "    max = 1\n",
    "    x_min = 0\n",
    "    x_max = 255\n",
    "    x_norm = (x - x_min)/(x_max-x_min)\n",
    "    return x_norm\n",
    "\n",
    "\n",
    "\"\"\"\n",
    "DON'T MODIFY ANYTHING IN THIS CELL THAT IS BELOW THIS LINE\n",
    "\"\"\"\n",
    "tests.test_normalize(normalize)"
   ]
  },
  {
   "cell_type": "markdown",
   "metadata": {
    "deletable": true,
    "editable": true
   },
   "source": [
    "### One-hot encode\n",
    "Just like the previous code cell, you'll be implementing a function for preprocessing.  This time, you'll implement the `one_hot_encode` function. The input, `x`, are a list of labels.  Implement the function to return the list of labels as One-Hot encoded Numpy array.  The possible values for labels are 0 to 9. The one-hot encoding function should return the same encoding for each value between each call to `one_hot_encode`.  Make sure to save the map of encodings outside the function.\n",
    "\n",
    "Hint: Don't reinvent the wheel."
   ]
  },
  {
   "cell_type": "code",
   "execution_count": 4,
   "metadata": {
    "collapsed": false,
    "deletable": true,
    "editable": true
   },
   "outputs": [
    {
     "name": "stdout",
     "output_type": "stream",
     "text": [
      "Tests Passed\n"
     ]
    }
   ],
   "source": [
    "def one_hot_encode(x):\n",
    "    \"\"\"\n",
    "    One hot encode a list of sample labels. Return a one-hot encoded vector for each label.\n",
    "    : x: List of sample Labels\n",
    "    : return: Numpy array of one-hot encoded labels\n",
    "    \"\"\"\n",
    "    # TODO: Implement Function\n",
    "    #zeros = np.zeros(((len(x),10)), dtype = np.int)\n",
    "    #for idx, item in enumerate(x):\n",
    "    #    zeros[idx][item] = 1\n",
    "    #return zeros\n",
    "    \n",
    "    one_hot = np.eye(10)[x]\n",
    "    return one_hot\n",
    "\n",
    "\"\"\"\n",
    "DON'T MODIFY ANYTHING IN THIS CELL THAT IS BELOW THIS LINE\n",
    "\"\"\"\n",
    "tests.test_one_hot_encode(one_hot_encode)"
   ]
  },
  {
   "cell_type": "markdown",
   "metadata": {
    "deletable": true,
    "editable": true
   },
   "source": [
    "### Randomize Data\n",
    "As you saw from exploring the data above, the order of the samples are randomized.  It doesn't hurt to randomize it again, but you don't need to for this dataset."
   ]
  },
  {
   "cell_type": "markdown",
   "metadata": {
    "deletable": true,
    "editable": true
   },
   "source": [
    "## Preprocess all the data and save it\n",
    "Running the code cell below will preprocess all the CIFAR-10 data and save it to file. The code below also uses 10% of the training data for validation."
   ]
  },
  {
   "cell_type": "code",
   "execution_count": 5,
   "metadata": {
    "collapsed": false,
    "deletable": true,
    "editable": true
   },
   "outputs": [],
   "source": [
    "\"\"\"\n",
    "DON'T MODIFY ANYTHING IN THIS CELL\n",
    "\"\"\"\n",
    "# Preprocess Training, Validation, and Testing Data\n",
    "helper.preprocess_and_save_data(cifar10_dataset_folder_path, normalize, one_hot_encode)"
   ]
  },
  {
   "cell_type": "markdown",
   "metadata": {
    "deletable": true,
    "editable": true
   },
   "source": [
    "# Check Point\n",
    "This is your first checkpoint.  If you ever decide to come back to this notebook or have to restart the notebook, you can start from here.  The preprocessed data has been saved to disk."
   ]
  },
  {
   "cell_type": "code",
   "execution_count": 1,
   "metadata": {
    "collapsed": true,
    "deletable": true,
    "editable": true
   },
   "outputs": [],
   "source": [
    "\"\"\"\n",
    "DON'T MODIFY ANYTHING IN THIS CELL\n",
    "\"\"\"\n",
    "import pickle\n",
    "import problem_unittests as tests\n",
    "import helper\n",
    "\n",
    "# Load the Preprocessed Validation data\n",
    "valid_features, valid_labels = pickle.load(open('preprocess_validation.p', mode='rb'))"
   ]
  },
  {
   "cell_type": "markdown",
   "metadata": {
    "deletable": true,
    "editable": true
   },
   "source": [
    "## Build the network\n",
    "For the neural network, you'll build each layer into a function.  Most of the code you've seen has been outside of functions. To test your code more thoroughly, we require that you put each layer in a function.  This allows us to give you better feedback and test for simple mistakes using our unittests before you submit your project.\n",
    "\n",
    "If you're finding it hard to dedicate enough time for this course a week, we've provided a small shortcut to this part of the project. In the next couple of problems, you'll have the option to use [TensorFlow Layers](https://www.tensorflow.org/api_docs/python/tf/layers) or [TensorFlow Layers (contrib)](https://www.tensorflow.org/api_guides/python/contrib.layers) to build each layer, except \"Convolutional & Max Pooling\" layer.  TF Layers is similar to Keras's and TFLearn's abstraction to layers, so it's easy to pickup.\n",
    "\n",
    "If you would like to get the most of this course, try to solve all the problems without TF Layers.  Let's begin!\n",
    "### Input\n",
    "The neural network needs to read the image data, one-hot encoded labels, and dropout keep probability. Implement the following functions\n",
    "* Implement `neural_net_image_input`\n",
    " * Return a [TF Placeholder](https://www.tensorflow.org/api_docs/python/tf/placeholder)\n",
    " * Set the shape using `image_shape` with batch size set to `None`.\n",
    " * Name the TensorFlow placeholder \"x\" using the TensorFlow `name` parameter in the [TF Placeholder](https://www.tensorflow.org/api_docs/python/tf/placeholder).\n",
    "* Implement `neural_net_label_input`\n",
    " * Return a [TF Placeholder](https://www.tensorflow.org/api_docs/python/tf/placeholder)\n",
    " * Set the shape using `n_classes` with batch size set to `None`.\n",
    " * Name the TensorFlow placeholder \"y\" using the TensorFlow `name` parameter in the [TF Placeholder](https://www.tensorflow.org/api_docs/python/tf/placeholder).\n",
    "* Implement `neural_net_keep_prob_input`\n",
    " * Return a [TF Placeholder](https://www.tensorflow.org/api_docs/python/tf/placeholder) for dropout keep probability.\n",
    " * Name the TensorFlow placeholder \"keep_prob\" using the TensorFlow `name` parameter in the [TF Placeholder](https://www.tensorflow.org/api_docs/python/tf/placeholder).\n",
    "\n",
    "These names will be used at the end of the project to load your saved model.\n",
    "\n",
    "Note: `None` for shapes in TensorFlow allow for a dynamic size."
   ]
  },
  {
   "cell_type": "code",
   "execution_count": 2,
   "metadata": {
    "collapsed": false,
    "deletable": true,
    "editable": true
   },
   "outputs": [
    {
     "name": "stdout",
     "output_type": "stream",
     "text": [
      "Image Input Tests Passed.\n",
      "Label Input Tests Passed.\n",
      "Keep Prob Tests Passed.\n"
     ]
    }
   ],
   "source": [
    "import tensorflow as tf\n",
    "\n",
    "def neural_net_image_input(image_shape):\n",
    "    \"\"\"\n",
    "    Return a Tensor for a bach of image input\n",
    "    : image_shape: Shape of the images\n",
    "    : return: Tensor for image input.\n",
    "    \"\"\"\n",
    "    image_list = [None]\n",
    "    for idx, name in enumerate(image_shape):\n",
    "        image_list.append(name)\n",
    "\n",
    "    features = tf.placeholder(tf.float32, image_list, name='x')\n",
    "    return features\n",
    "\n",
    "\n",
    "def neural_net_label_input(n_classes):\n",
    "    \"\"\"\n",
    "    Return a Tensor for a batch of label input\n",
    "    : n_classes: Number of classes\n",
    "    : return: Tensor for label input.\n",
    "    \"\"\"\n",
    "    labels = tf.placeholder(tf.float32, [None, n_classes], name='y')\n",
    "    return labels\n",
    "\n",
    "def neural_net_keep_prob_input():\n",
    "    \"\"\"\n",
    "    Return a Tensor for keep probability\n",
    "    : return: Tensor for keep probability.\n",
    "    \"\"\" \n",
    "    keep_prob = tf.placeholder(tf.float32, name='keep_prob')\n",
    "    return keep_prob\n",
    "\n",
    "\n",
    "\"\"\"\n",
    "DON'T MODIFY ANYTHING IN THIS CELL THAT IS BELOW THIS LINE\n",
    "\"\"\"\n",
    "tf.reset_default_graph()\n",
    "tests.test_nn_image_inputs(neural_net_image_input)\n",
    "tests.test_nn_label_inputs(neural_net_label_input)\n",
    "tests.test_nn_keep_prob_inputs(neural_net_keep_prob_input)"
   ]
  },
  {
   "cell_type": "markdown",
   "metadata": {
    "deletable": true,
    "editable": true
   },
   "source": [
    "### Convolution and Max Pooling Layer\n",
    "Convolution layers have a lot of success with images. For this code cell, you should implement the function `conv2d_maxpool` to apply convolution then max pooling:\n",
    "* Create the weight and bias using `conv_ksize`, `conv_num_outputs` and the shape of `x_tensor`.\n",
    "* Apply a convolution to `x_tensor` using weight and `conv_strides`.\n",
    " * We recommend you use same padding, but you're welcome to use any padding.\n",
    "* Add bias\n",
    "* Add a nonlinear activation to the convolution.\n",
    "* Apply Max Pooling using `pool_ksize` and `pool_strides`.\n",
    " * We recommend you use same padding, but you're welcome to use any padding.\n",
    "\n",
    "Note: You **can't** use [TensorFlow Layers](https://www.tensorflow.org/api_docs/python/tf/layers) or [TensorFlow Layers (contrib)](https://www.tensorflow.org/api_guides/python/contrib.layers) for this layer.  You're free to use any TensorFlow package for all the other layers."
   ]
  },
  {
   "cell_type": "code",
   "execution_count": 63,
   "metadata": {
    "collapsed": false,
    "deletable": true,
    "editable": true
   },
   "outputs": [
    {
     "name": "stdout",
     "output_type": "stream",
     "text": [
      "Tests Passed\n"
     ]
    }
   ],
   "source": [
    "def conv2d_maxpool(x_tensor, conv_num_outputs, conv_ksize, conv_strides, pool_ksize, pool_strides):\n",
    "    \"\"\"\n",
    "    Apply convolution then max pooling to x_tensor\n",
    "    :param x_tensor: TensorFlow Tensor\n",
    "    :param conv_num_outputs: Number of outputs for the convolutional layer\n",
    "    :param conv_strides: Stride 2-D Tuple for convolution\n",
    "    :param pool_ksize: kernal size 2-D Tuple for pool\n",
    "    :param pool_strides: Stride 2-D Tuple for pool\n",
    "    : return: A tensor that represents convolution and max pooling of x_tensor\n",
    "    \"\"\"\n",
    "    \n",
    "    weight = tf.Variable(tf.truncated_normal([conv_ksize[0], conv_ksize[1], x_tensor.get_shape().as_list()[3],\\\n",
    "                                          conv_num_outputs],stddev=0.1,  mean=0.01))\n",
    "    bias = tf.Variable(tf.truncated_normal([conv_num_outputs],stddev=0.1,  mean=0.01))\n",
    "    conv = tf.nn.conv2d(x_tensor, weight, strides=[1, conv_strides[0], conv_strides[1], 1],\\\n",
    "                    padding='SAME')\n",
    "    conv = tf.nn.bias_add(conv, bias)\n",
    "    activation = tf.nn.relu(conv)\n",
    "    max_pool = tf.nn.max_pool(activation, ksize=[1, pool_ksize[0], pool_ksize[1], 1],\\\n",
    "                          strides=[1, pool_strides[0], pool_strides[1], 1], padding='SAME')\n",
    "    \n",
    "    return max_pool\n",
    "\n",
    "\"\"\"\n",
    "DON'T MODIFY ANYTHING IN THIS CELL THAT IS BELOW THIS LINE\n",
    "\"\"\"\n",
    "tests.test_con_pool(conv2d_maxpool)"
   ]
  },
  {
   "cell_type": "markdown",
   "metadata": {
    "deletable": true,
    "editable": true
   },
   "source": [
    "### Flatten Layer\n",
    "Implement the `flatten` function to change the dimension of `x_tensor` from a 4-D tensor to a 2-D tensor.  The output should be the shape (*Batch Size*, *Flattened Image Size*). You can use [TensorFlow Layers](https://www.tensorflow.org/api_docs/python/tf/layers) or [TensorFlow Layers (contrib)](https://www.tensorflow.org/api_guides/python/contrib.layers) for this layer."
   ]
  },
  {
   "cell_type": "code",
   "execution_count": 64,
   "metadata": {
    "collapsed": false,
    "deletable": true,
    "editable": true
   },
   "outputs": [
    {
     "name": "stdout",
     "output_type": "stream",
     "text": [
      "Tests Passed\n"
     ]
    }
   ],
   "source": [
    "def flatten(x_tensor):\n",
    "    \"\"\"\n",
    "    Flatten x_tensor to (Batch Size, Flattened Image Size)\n",
    "    : x_tensor: A tensor of size (Batch Size, ...), where ... are the image dimensions.\n",
    "    : return: A tensor of size (Batch Size, Flattened Image Size).\n",
    "    \"\"\"  \n",
    "    flatten = tf.contrib.layers.flatten(x_tensor)\n",
    "    return flatten\n",
    "\n",
    "\"\"\"\n",
    "DON'T MODIFY ANYTHING IN THIS CELL THAT IS BELOW THIS LINE\n",
    "\"\"\"\n",
    "tests.test_flatten(flatten)"
   ]
  },
  {
   "cell_type": "markdown",
   "metadata": {
    "deletable": true,
    "editable": true
   },
   "source": [
    "### Fully-Connected Layer\n",
    "Implement the `fully_conn` function to apply a fully connected layer to `x_tensor` with the shape (*Batch Size*, *num_outputs*). You can use [TensorFlow Layers](https://www.tensorflow.org/api_docs/python/tf/layers) or [TensorFlow Layers (contrib)](https://www.tensorflow.org/api_guides/python/contrib.layers) for this layer."
   ]
  },
  {
   "cell_type": "code",
   "execution_count": 65,
   "metadata": {
    "collapsed": false,
    "deletable": true,
    "editable": true
   },
   "outputs": [
    {
     "name": "stdout",
     "output_type": "stream",
     "text": [
      "Tests Passed\n"
     ]
    }
   ],
   "source": [
    "def fully_conn(x_tensor, num_outputs):\n",
    "    \"\"\"\n",
    "    Apply a fully connected layer to x_tensor using weight and bias\n",
    "    : x_tensor: A 2-D tensor where the first dimension is batch size.\n",
    "    : num_outputs: The number of output that the new tensor should be.\n",
    "    : return: A 2-D tensor where the second dimension is num_outputs.\n",
    "    \"\"\"\n",
    "    \n",
    "    fully_conn = tf.contrib.layers.fully_connected(x_tensor, num_outputs, \\\n",
    "                                                   weights_initializer=tf.truncated_normal_initializer(stddev=0.1, mean=0.01),\\\n",
    "                                                   biases_initializer= tf.truncated_normal_initializer(stddev=0.1, mean=0.01))\n",
    "    return fully_conn\n",
    "\n",
    "\n",
    "\"\"\"\n",
    "DON'T MODIFY ANYTHING IN THIS CELL THAT IS BELOW THIS LINE\n",
    "\"\"\"\n",
    "tests.test_fully_conn(fully_conn)"
   ]
  },
  {
   "cell_type": "markdown",
   "metadata": {
    "deletable": true,
    "editable": true
   },
   "source": [
    "### Output Layer\n",
    "Implement the `output` function to apply a fully connected layer to `x_tensor` with the shape (*Batch Size*, *num_outputs*). You can use [TensorFlow Layers](https://www.tensorflow.org/api_docs/python/tf/layers) or [TensorFlow Layers (contrib)](https://www.tensorflow.org/api_guides/python/contrib.layers) for this layer.\n",
    "\n",
    "Note: Activation, softmax, or cross entropy shouldn't be applied to this."
   ]
  },
  {
   "cell_type": "code",
   "execution_count": 66,
   "metadata": {
    "collapsed": false,
    "deletable": true,
    "editable": true
   },
   "outputs": [
    {
     "name": "stdout",
     "output_type": "stream",
     "text": [
      "Tests Passed\n"
     ]
    }
   ],
   "source": [
    "def output(x_tensor, num_outputs):\n",
    "    \"\"\"\n",
    "    Apply a output layer to x_tensor using weight and bias\n",
    "    : x_tensor: A 2-D tensor where the first dimension is batch size.\n",
    "    : num_outputs: The number of output that the new tensor should be.\n",
    "    : return: A 2-D tensor where the second dimension is num_outputs.\n",
    "    \"\"\"\n",
    "    # TODO: Implement Function\n",
    "    output = tf.contrib.layers.fully_connected(x_tensor, num_outputs, \\\n",
    "                                                   weights_initializer=tf.truncated_normal_initializer(stddev=0.1, mean=0.01),\\\n",
    "                                                   biases_initializer= tf.truncated_normal_initializer(stddev=0.1, mean=0.01))\n",
    "    return output\n",
    "\n",
    "\"\"\"\n",
    "DON'T MODIFY ANYTHING IN THIS CELL THAT IS BELOW THIS LINE\n",
    "\"\"\"\n",
    "tests.test_output(output)"
   ]
  },
  {
   "cell_type": "markdown",
   "metadata": {
    "deletable": true,
    "editable": true
   },
   "source": [
    "### Create Convolutional Model\n",
    "Implement the function `conv_net` to create a convolutional neural network model. The function takes in a batch of images, `x`, and outputs logits.  Use the layers you created above to create this model:\n",
    "\n",
    "* Apply 1, 2, or 3 Convolution and Max Pool layers\n",
    "* Apply a Flatten Layer\n",
    "* Apply 1, 2, or 3 Fully Connected Layers\n",
    "* Apply an Output Layer\n",
    "* Return the output\n",
    "* Apply [TensorFlow's Dropout](https://www.tensorflow.org/api_docs/python/tf/nn/dropout) to one or more layers in the model using `keep_prob`. "
   ]
  },
  {
   "cell_type": "code",
   "execution_count": 67,
   "metadata": {
    "collapsed": false,
    "deletable": true,
    "editable": true
   },
   "outputs": [
    {
     "name": "stdout",
     "output_type": "stream",
     "text": [
      "Neural Network Built!\n"
     ]
    }
   ],
   "source": [
    "def conv_net(x, keep_prob):\n",
    "    \"\"\"\n",
    "    Create a convolutional neural network model\n",
    "    : x: Placeholder tensor that holds image data.\n",
    "    : keep_prob: Placeholder tensor that hold dropout keep probability.\n",
    "    : return: Tensor that represents logits\n",
    "    \"\"\"\n",
    "    # TODO: Apply 1, 2, or 3 Convolution and Max Pool layers\n",
    "    #    Play around with different number of outputs, kernel size and stride\n",
    "    # Function Definition from Above:\n",
    "    #    conv2d_maxpool(x_tensor, conv_num_outputs, conv_ksize, conv_strides, pool_ksize, pool_strides)\n",
    "\n",
    "    conv_num_outputs_1 = 16\n",
    "    conv_num_outputs_2 = 32\n",
    "    conv_num_outputs_3 = 64\n",
    "    conv_ksize_1 = (3,3)\n",
    "    conv_strides_1 = (1,1)\n",
    "    conv_ksize_2 = (3,3)\n",
    "    conv_strides_2 = (1,1)\n",
    "    conv_ksize_3 = (3,3)\n",
    "    conv_strides_3 = (1,1)\n",
    "    pool_ksize = (2,2)\n",
    "    pool_strides = (2,2)\n",
    "    \n",
    "    conv_layer_1 = conv2d_maxpool(x, conv_num_outputs_1, conv_ksize_1, conv_strides_1, pool_ksize, pool_strides)\n",
    "    conv_layer_2 = conv2d_maxpool(x, conv_num_outputs_2, conv_ksize_2, conv_strides_2, pool_ksize, pool_strides)\n",
    "    conv_layer_3 = conv2d_maxpool(x, conv_num_outputs_3, conv_ksize_3, conv_strides_3, pool_ksize, pool_strides)\n",
    "\n",
    "    \n",
    "    # TODO: Apply a Flatten Layer\n",
    "    # Function Definition from Above:\n",
    "    #   flatten(x_tensor)\n",
    "    flat_layer_1 = flatten(conv_layer_3)\n",
    "\n",
    "    # TODO: Apply 1, 2, or 3 Fully Connected Layers\n",
    "    #    Play around with different number of outputs\n",
    "    # Function Definition from Above:\n",
    "    #   fully_conn(x_tensor, num_outputs)\n",
    "    \n",
    "    fc_layer_1 = fully_conn(flat_layer_1, 256)\n",
    "    fc_layer_2 = fully_conn(fc_layer_1, 512)\n",
    "    drop_layer = tf.nn.dropout(fc_layer_2, keep_prob)\n",
    "    \n",
    "    # TODO: Apply an Output Layer\n",
    "    #    Set this to the number of classes\n",
    "    # Function Definition from Above:\n",
    "    \n",
    "    out_layer = output(drop_layer, 10)\n",
    "    \n",
    "    \n",
    "    # TODO: return output\n",
    "    return out_layer\n",
    "\n",
    "\n",
    "\"\"\"\n",
    "DON'T MODIFY ANYTHING IN THIS CELL THAT IS BELOW THIS LINE\n",
    "\"\"\"\n",
    "\n",
    "##############################\n",
    "## Build the Neural Network ##\n",
    "##############################\n",
    "\n",
    "# Remove previous weights, bias, inputs, etc..\n",
    "tf.reset_default_graph()\n",
    "\n",
    "# Inputs\n",
    "x = neural_net_image_input((32, 32, 3))\n",
    "y = neural_net_label_input(10)\n",
    "keep_prob = neural_net_keep_prob_input()\n",
    "\n",
    "# Model\n",
    "logits = conv_net(x, keep_prob)\n",
    "\n",
    "# Name logits Tensor, so that is can be loaded from disk after training\n",
    "logits = tf.identity(logits, name='logits')\n",
    "\n",
    "# Loss and Optimizer\n",
    "cost = tf.reduce_mean(tf.nn.softmax_cross_entropy_with_logits(logits=logits, labels=y))\n",
    "optimizer = tf.train.AdamOptimizer().minimize(cost)\n",
    "\n",
    "# Accuracy\n",
    "correct_pred = tf.equal(tf.argmax(logits, 1), tf.argmax(y, 1))\n",
    "accuracy = tf.reduce_mean(tf.cast(correct_pred, tf.float32), name='accuracy')\n",
    "\n",
    "tests.test_conv_net(conv_net)"
   ]
  },
  {
   "cell_type": "markdown",
   "metadata": {
    "deletable": true,
    "editable": true
   },
   "source": [
    "## Train the Neural Network\n",
    "### Single Optimization\n",
    "Implement the function `train_neural_network` to do a single optimization.  The optimization should use `optimizer` to optimize in `session` with a `feed_dict` of the following:\n",
    "* `x` for image input\n",
    "* `y` for labels\n",
    "* `keep_prob` for keep probability for dropout\n",
    "\n",
    "This function will be called for each batch, so `tf.global_variables_initializer()` has already been called.\n",
    "\n",
    "Note: Nothing needs to be returned. This function is only optimizing the neural network."
   ]
  },
  {
   "cell_type": "code",
   "execution_count": 68,
   "metadata": {
    "collapsed": false,
    "deletable": true,
    "editable": true
   },
   "outputs": [
    {
     "name": "stdout",
     "output_type": "stream",
     "text": [
      "Tests Passed\n"
     ]
    }
   ],
   "source": [
    "def train_neural_network(session, optimizer, keep_probability, feature_batch, label_batch):\n",
    "    \"\"\"\n",
    "    Optimize the session on a batch of images and labels\n",
    "    : session: Current TensorFlow session\n",
    "    : optimizer: TensorFlow optimizer function\n",
    "    : keep_probability: keep probability\n",
    "    : feature_batch: Batch of Numpy image data\n",
    "    : label_batch: Batch of Numpy label data\n",
    "    \"\"\"\n",
    "    # TODO: Implement Function\n",
    "    session.run(optimizer, feed_dict={x: feature_batch, y: label_batch, keep_prob: keep_probability})\n",
    "    pass\n",
    "\n",
    "\n",
    "\"\"\"\n",
    "DON'T MODIFY ANYTHING IN THIS CELL THAT IS BELOW THIS LINE\n",
    "\"\"\"\n",
    "tests.test_train_nn(train_neural_network)"
   ]
  },
  {
   "cell_type": "markdown",
   "metadata": {
    "deletable": true,
    "editable": true
   },
   "source": [
    "### Show Stats\n",
    "Implement the function `print_stats` to print loss and validation accuracy.  Use the global variables `valid_features` and `valid_labels` to calculate validation accuracy.  Use a keep probability of `1.0` to calculate the loss and validation accuracy."
   ]
  },
  {
   "cell_type": "code",
   "execution_count": 69,
   "metadata": {
    "collapsed": false,
    "deletable": true,
    "editable": true
   },
   "outputs": [],
   "source": [
    "def print_stats(session, feature_batch, label_batch, cost, accuracy):\n",
    "    \"\"\"\n",
    "    Print information about loss and validation accuracy\n",
    "    : session: Current TensorFlow session\n",
    "    : feature_batch: Batch of Numpy image data\n",
    "    : label_batch: Batch of Numpy label data\n",
    "    : cost: TensorFlow cost function\n",
    "    : accuracy: TensorFlow accuracy function\n",
    "    \"\"\"\n",
    "    loss = session.run(cost, feed_dict={x: feature_batch, y: label_batch, keep_prob: 1.})\n",
    "    valid_acc = sess.run(accuracy, feed_dict={x: valid_features, y: valid_labels, keep_prob: 1.})\n",
    "\n",
    "    print('Loss: {:>10.4f} Validation Accuracy: {:.6f}'.format(loss,valid_acc))"
   ]
  },
  {
   "cell_type": "markdown",
   "metadata": {
    "deletable": true,
    "editable": true
   },
   "source": [
    "### Hyperparameters\n",
    "Tune the following parameters:\n",
    "* Set `epochs` to the number of iterations until the network stops learning or start overfitting\n",
    "* Set `batch_size` to the highest number that your machine has memory for.  Most people set them to common sizes of memory:\n",
    " * 64\n",
    " * 128\n",
    " * 256\n",
    " * ...\n",
    "* Set `keep_probability` to the probability of keeping a node using dropout"
   ]
  },
  {
   "cell_type": "code",
   "execution_count": 76,
   "metadata": {
    "collapsed": true,
    "deletable": true,
    "editable": true
   },
   "outputs": [],
   "source": [
    "# TODO: Tune Parameters\n",
    "epochs = 30\n",
    "batch_size = 256\n",
    "keep_probability = 0.5"
   ]
  },
  {
   "cell_type": "markdown",
   "metadata": {
    "deletable": true,
    "editable": true
   },
   "source": [
    "### Train on a Single CIFAR-10 Batch\n",
    "Instead of training the neural network on all the CIFAR-10 batches of data, let's use a single batch. This should save time while you iterate on the model to get a better accuracy.  Once the final validation accuracy is 50% or greater, run the model on all the data in the next section."
   ]
  },
  {
   "cell_type": "code",
   "execution_count": 77,
   "metadata": {
    "collapsed": false,
    "deletable": true,
    "editable": true
   },
   "outputs": [
    {
     "name": "stdout",
     "output_type": "stream",
     "text": [
      "Checking the Training on a Single Batch...\n",
      "Epoch  1, CIFAR-10 Batch 1:  Loss:     2.1607 Validation Accuracy: 0.182600\n",
      "Epoch  2, CIFAR-10 Batch 1:  Loss:     2.1804 Validation Accuracy: 0.238800\n",
      "Epoch  3, CIFAR-10 Batch 1:  Loss:     2.0384 Validation Accuracy: 0.289400\n",
      "Epoch  4, CIFAR-10 Batch 1:  Loss:     1.9509 Validation Accuracy: 0.320600\n",
      "Epoch  5, CIFAR-10 Batch 1:  Loss:     1.8666 Validation Accuracy: 0.346800\n",
      "Epoch  6, CIFAR-10 Batch 1:  Loss:     1.7717 Validation Accuracy: 0.367400\n",
      "Epoch  7, CIFAR-10 Batch 1:  Loss:     1.6803 Validation Accuracy: 0.372000\n",
      "Epoch  8, CIFAR-10 Batch 1:  Loss:     1.5858 Validation Accuracy: 0.385800\n",
      "Epoch  9, CIFAR-10 Batch 1:  Loss:     1.4802 Validation Accuracy: 0.402000\n",
      "Epoch 10, CIFAR-10 Batch 1:  Loss:     1.3673 Validation Accuracy: 0.423800\n",
      "Epoch 11, CIFAR-10 Batch 1:  Loss:     1.2600 Validation Accuracy: 0.448400\n",
      "Epoch 12, CIFAR-10 Batch 1:  Loss:     1.1661 Validation Accuracy: 0.457600\n",
      "Epoch 13, CIFAR-10 Batch 1:  Loss:     1.0264 Validation Accuracy: 0.465600\n",
      "Epoch 14, CIFAR-10 Batch 1:  Loss:     0.9236 Validation Accuracy: 0.474600\n",
      "Epoch 15, CIFAR-10 Batch 1:  Loss:     0.8636 Validation Accuracy: 0.490400\n",
      "Epoch 16, CIFAR-10 Batch 1:  Loss:     0.7559 Validation Accuracy: 0.500000\n",
      "Epoch 17, CIFAR-10 Batch 1:  Loss:     0.6641 Validation Accuracy: 0.514000\n",
      "Epoch 18, CIFAR-10 Batch 1:  Loss:     0.6179 Validation Accuracy: 0.515000\n",
      "Epoch 19, CIFAR-10 Batch 1:  Loss:     0.5734 Validation Accuracy: 0.513600\n",
      "Epoch 20, CIFAR-10 Batch 1:  Loss:     0.5122 Validation Accuracy: 0.527400\n",
      "Epoch 21, CIFAR-10 Batch 1:  Loss:     0.4725 Validation Accuracy: 0.527400\n",
      "Epoch 22, CIFAR-10 Batch 1:  Loss:     0.4241 Validation Accuracy: 0.533600\n",
      "Epoch 23, CIFAR-10 Batch 1:  Loss:     0.4029 Validation Accuracy: 0.527000\n",
      "Epoch 24, CIFAR-10 Batch 1:  Loss:     0.3608 Validation Accuracy: 0.543400\n",
      "Epoch 25, CIFAR-10 Batch 1:  Loss:     0.3290 Validation Accuracy: 0.538800\n",
      "Epoch 26, CIFAR-10 Batch 1:  Loss:     0.2781 Validation Accuracy: 0.541000\n",
      "Epoch 27, CIFAR-10 Batch 1:  Loss:     0.2562 Validation Accuracy: 0.541000\n",
      "Epoch 28, CIFAR-10 Batch 1:  Loss:     0.2407 Validation Accuracy: 0.544800\n",
      "Epoch 29, CIFAR-10 Batch 1:  Loss:     0.2176 Validation Accuracy: 0.539400\n",
      "Epoch 30, CIFAR-10 Batch 1:  Loss:     0.2154 Validation Accuracy: 0.534800\n"
     ]
    }
   ],
   "source": [
    "\"\"\"\n",
    "DON'T MODIFY ANYTHING IN THIS CELL\n",
    "\"\"\"\n",
    "print('Checking the Training on a Single Batch...')\n",
    "with tf.Session() as sess:\n",
    "    # Initializing the variables\n",
    "    sess.run(tf.global_variables_initializer())\n",
    "    \n",
    "    # Training cycle\n",
    "    for epoch in range(epochs):\n",
    "        batch_i = 1\n",
    "        for batch_features, batch_labels in helper.load_preprocess_training_batch(batch_i, batch_size):\n",
    "            train_neural_network(sess, optimizer, keep_probability, batch_features, batch_labels)\n",
    "        print('Epoch {:>2}, CIFAR-10 Batch {}:  '.format(epoch + 1, batch_i), end='')\n",
    "        print_stats(sess, batch_features, batch_labels, cost, accuracy)"
   ]
  },
  {
   "cell_type": "markdown",
   "metadata": {
    "deletable": true,
    "editable": true
   },
   "source": [
    "### Fully Train the Model\n",
    "Now that you got a good accuracy with a single CIFAR-10 batch, try it with all five batches."
   ]
  },
  {
   "cell_type": "code",
   "execution_count": 78,
   "metadata": {
    "collapsed": false,
    "deletable": true,
    "editable": true,
    "scrolled": false
   },
   "outputs": [
    {
     "name": "stdout",
     "output_type": "stream",
     "text": [
      "Training...\n",
      "Epoch  1, CIFAR-10 Batch 1:  Loss:     2.3835 Validation Accuracy: 0.152200\n",
      "Epoch  1, CIFAR-10 Batch 2:  Loss:     2.2135 Validation Accuracy: 0.206400\n",
      "Epoch  1, CIFAR-10 Batch 3:  Loss:     2.0747 Validation Accuracy: 0.245400\n",
      "Epoch  1, CIFAR-10 Batch 4:  Loss:     2.0333 Validation Accuracy: 0.264200\n",
      "Epoch  1, CIFAR-10 Batch 5:  Loss:     2.0466 Validation Accuracy: 0.300800\n",
      "Epoch  2, CIFAR-10 Batch 1:  Loss:     2.0319 Validation Accuracy: 0.339000\n",
      "Epoch  2, CIFAR-10 Batch 2:  Loss:     1.9997 Validation Accuracy: 0.353800\n",
      "Epoch  2, CIFAR-10 Batch 3:  Loss:     1.7665 Validation Accuracy: 0.356600\n",
      "Epoch  2, CIFAR-10 Batch 4:  Loss:     1.7952 Validation Accuracy: 0.386600\n",
      "Epoch  2, CIFAR-10 Batch 5:  Loss:     1.7912 Validation Accuracy: 0.396800\n",
      "Epoch  3, CIFAR-10 Batch 1:  Loss:     1.7685 Validation Accuracy: 0.416400\n",
      "Epoch  3, CIFAR-10 Batch 2:  Loss:     1.6590 Validation Accuracy: 0.430000\n",
      "Epoch  3, CIFAR-10 Batch 3:  Loss:     1.4471 Validation Accuracy: 0.429200\n",
      "Epoch  3, CIFAR-10 Batch 4:  Loss:     1.5468 Validation Accuracy: 0.447200\n",
      "Epoch  3, CIFAR-10 Batch 5:  Loss:     1.5778 Validation Accuracy: 0.452600\n",
      "Epoch  4, CIFAR-10 Batch 1:  Loss:     1.5324 Validation Accuracy: 0.458800\n",
      "Epoch  4, CIFAR-10 Batch 2:  Loss:     1.4141 Validation Accuracy: 0.480400\n",
      "Epoch  4, CIFAR-10 Batch 3:  Loss:     1.1681 Validation Accuracy: 0.474800\n",
      "Epoch  4, CIFAR-10 Batch 4:  Loss:     1.3821 Validation Accuracy: 0.489200\n",
      "Epoch  4, CIFAR-10 Batch 5:  Loss:     1.3199 Validation Accuracy: 0.502800\n",
      "Epoch  5, CIFAR-10 Batch 1:  Loss:     1.3668 Validation Accuracy: 0.500600\n",
      "Epoch  5, CIFAR-10 Batch 2:  Loss:     1.1776 Validation Accuracy: 0.515200\n",
      "Epoch  5, CIFAR-10 Batch 3:  Loss:     0.9653 Validation Accuracy: 0.511800\n",
      "Epoch  5, CIFAR-10 Batch 4:  Loss:     1.2093 Validation Accuracy: 0.530400\n",
      "Epoch  5, CIFAR-10 Batch 5:  Loss:     1.1297 Validation Accuracy: 0.536600\n",
      "Epoch  6, CIFAR-10 Batch 1:  Loss:     1.1381 Validation Accuracy: 0.543600\n",
      "Epoch  6, CIFAR-10 Batch 2:  Loss:     0.9688 Validation Accuracy: 0.548200\n",
      "Epoch  6, CIFAR-10 Batch 3:  Loss:     0.7508 Validation Accuracy: 0.553400\n",
      "Epoch  6, CIFAR-10 Batch 4:  Loss:     1.0191 Validation Accuracy: 0.563200\n",
      "Epoch  6, CIFAR-10 Batch 5:  Loss:     0.9697 Validation Accuracy: 0.561800\n",
      "Epoch  7, CIFAR-10 Batch 1:  Loss:     0.9482 Validation Accuracy: 0.559000\n",
      "Epoch  7, CIFAR-10 Batch 2:  Loss:     0.7854 Validation Accuracy: 0.572000\n",
      "Epoch  7, CIFAR-10 Batch 3:  Loss:     0.5846 Validation Accuracy: 0.569400\n",
      "Epoch  7, CIFAR-10 Batch 4:  Loss:     0.8655 Validation Accuracy: 0.580200\n",
      "Epoch  7, CIFAR-10 Batch 5:  Loss:     0.7795 Validation Accuracy: 0.585800\n",
      "Epoch  8, CIFAR-10 Batch 1:  Loss:     0.7922 Validation Accuracy: 0.579400\n",
      "Epoch  8, CIFAR-10 Batch 2:  Loss:     0.6191 Validation Accuracy: 0.594600\n",
      "Epoch  8, CIFAR-10 Batch 3:  Loss:     0.5033 Validation Accuracy: 0.585800\n",
      "Epoch  8, CIFAR-10 Batch 4:  Loss:     0.7322 Validation Accuracy: 0.585000\n",
      "Epoch  8, CIFAR-10 Batch 5:  Loss:     0.6624 Validation Accuracy: 0.594400\n",
      "Epoch  9, CIFAR-10 Batch 1:  Loss:     0.6615 Validation Accuracy: 0.593800\n",
      "Epoch  9, CIFAR-10 Batch 2:  Loss:     0.4897 Validation Accuracy: 0.602400\n",
      "Epoch  9, CIFAR-10 Batch 3:  Loss:     0.3836 Validation Accuracy: 0.604800\n",
      "Epoch  9, CIFAR-10 Batch 4:  Loss:     0.6137 Validation Accuracy: 0.589600\n",
      "Epoch  9, CIFAR-10 Batch 5:  Loss:     0.5568 Validation Accuracy: 0.607800\n",
      "Epoch 10, CIFAR-10 Batch 1:  Loss:     0.5607 Validation Accuracy: 0.602600\n",
      "Epoch 10, CIFAR-10 Batch 2:  Loss:     0.3708 Validation Accuracy: 0.611000\n",
      "Epoch 10, CIFAR-10 Batch 3:  Loss:     0.3354 Validation Accuracy: 0.615400\n",
      "Epoch 10, CIFAR-10 Batch 4:  Loss:     0.4690 Validation Accuracy: 0.605800\n",
      "Epoch 10, CIFAR-10 Batch 5:  Loss:     0.4580 Validation Accuracy: 0.621400\n",
      "Epoch 11, CIFAR-10 Batch 1:  Loss:     0.4645 Validation Accuracy: 0.612400\n",
      "Epoch 11, CIFAR-10 Batch 2:  Loss:     0.2899 Validation Accuracy: 0.613800\n",
      "Epoch 11, CIFAR-10 Batch 3:  Loss:     0.2799 Validation Accuracy: 0.615800\n",
      "Epoch 11, CIFAR-10 Batch 4:  Loss:     0.3857 Validation Accuracy: 0.623600\n",
      "Epoch 11, CIFAR-10 Batch 5:  Loss:     0.3491 Validation Accuracy: 0.631600\n",
      "Epoch 12, CIFAR-10 Batch 1:  Loss:     0.3976 Validation Accuracy: 0.617600\n",
      "Epoch 12, CIFAR-10 Batch 2:  Loss:     0.2407 Validation Accuracy: 0.627200\n",
      "Epoch 12, CIFAR-10 Batch 3:  Loss:     0.2232 Validation Accuracy: 0.625200\n",
      "Epoch 12, CIFAR-10 Batch 4:  Loss:     0.3184 Validation Accuracy: 0.634400\n",
      "Epoch 12, CIFAR-10 Batch 5:  Loss:     0.2895 Validation Accuracy: 0.632000\n",
      "Epoch 13, CIFAR-10 Batch 1:  Loss:     0.3334 Validation Accuracy: 0.620000\n",
      "Epoch 13, CIFAR-10 Batch 2:  Loss:     0.1872 Validation Accuracy: 0.633400\n",
      "Epoch 13, CIFAR-10 Batch 3:  Loss:     0.2053 Validation Accuracy: 0.625800\n",
      "Epoch 13, CIFAR-10 Batch 4:  Loss:     0.2762 Validation Accuracy: 0.611000\n",
      "Epoch 13, CIFAR-10 Batch 5:  Loss:     0.2271 Validation Accuracy: 0.628200\n",
      "Epoch 14, CIFAR-10 Batch 1:  Loss:     0.2952 Validation Accuracy: 0.624400\n",
      "Epoch 14, CIFAR-10 Batch 2:  Loss:     0.1546 Validation Accuracy: 0.634400\n",
      "Epoch 14, CIFAR-10 Batch 3:  Loss:     0.1559 Validation Accuracy: 0.631200\n",
      "Epoch 14, CIFAR-10 Batch 4:  Loss:     0.2316 Validation Accuracy: 0.636400\n",
      "Epoch 14, CIFAR-10 Batch 5:  Loss:     0.2023 Validation Accuracy: 0.631600\n",
      "Epoch 15, CIFAR-10 Batch 1:  Loss:     0.2660 Validation Accuracy: 0.624200\n",
      "Epoch 15, CIFAR-10 Batch 2:  Loss:     0.1207 Validation Accuracy: 0.638000\n",
      "Epoch 15, CIFAR-10 Batch 3:  Loss:     0.1315 Validation Accuracy: 0.628000\n",
      "Epoch 15, CIFAR-10 Batch 4:  Loss:     0.1886 Validation Accuracy: 0.642800\n",
      "Epoch 15, CIFAR-10 Batch 5:  Loss:     0.1795 Validation Accuracy: 0.625000\n",
      "Epoch 16, CIFAR-10 Batch 1:  Loss:     0.2101 Validation Accuracy: 0.629600\n",
      "Epoch 16, CIFAR-10 Batch 2:  Loss:     0.1026 Validation Accuracy: 0.638800\n",
      "Epoch 16, CIFAR-10 Batch 3:  Loss:     0.1249 Validation Accuracy: 0.616400\n",
      "Epoch 16, CIFAR-10 Batch 4:  Loss:     0.1566 Validation Accuracy: 0.640600\n",
      "Epoch 16, CIFAR-10 Batch 5:  Loss:     0.1206 Validation Accuracy: 0.640000\n",
      "Epoch 17, CIFAR-10 Batch 1:  Loss:     0.1937 Validation Accuracy: 0.614600\n",
      "Epoch 17, CIFAR-10 Batch 2:  Loss:     0.0906 Validation Accuracy: 0.644800\n",
      "Epoch 17, CIFAR-10 Batch 3:  Loss:     0.0956 Validation Accuracy: 0.619600\n",
      "Epoch 17, CIFAR-10 Batch 4:  Loss:     0.1559 Validation Accuracy: 0.626600\n",
      "Epoch 17, CIFAR-10 Batch 5:  Loss:     0.0828 Validation Accuracy: 0.647200\n",
      "Epoch 18, CIFAR-10 Batch 1:  Loss:     0.1487 Validation Accuracy: 0.644200\n",
      "Epoch 18, CIFAR-10 Batch 2:  Loss:     0.0795 Validation Accuracy: 0.636400\n",
      "Epoch 18, CIFAR-10 Batch 3:  Loss:     0.0727 Validation Accuracy: 0.631800\n",
      "Epoch 18, CIFAR-10 Batch 4:  Loss:     0.0963 Validation Accuracy: 0.633200\n",
      "Epoch 18, CIFAR-10 Batch 5:  Loss:     0.0969 Validation Accuracy: 0.628000\n",
      "Epoch 19, CIFAR-10 Batch 1:  Loss:     0.1517 Validation Accuracy: 0.649200\n",
      "Epoch 19, CIFAR-10 Batch 2:  Loss:     0.0558 Validation Accuracy: 0.631800\n",
      "Epoch 19, CIFAR-10 Batch 3:  Loss:     0.0706 Validation Accuracy: 0.626400\n",
      "Epoch 19, CIFAR-10 Batch 4:  Loss:     0.0740 Validation Accuracy: 0.628400\n",
      "Epoch 19, CIFAR-10 Batch 5:  Loss:     0.0666 Validation Accuracy: 0.643600\n",
      "Epoch 20, CIFAR-10 Batch 1:  Loss:     0.1048 Validation Accuracy: 0.649200\n",
      "Epoch 20, CIFAR-10 Batch 2:  Loss:     0.0535 Validation Accuracy: 0.648000\n",
      "Epoch 20, CIFAR-10 Batch 3:  Loss:     0.0634 Validation Accuracy: 0.616200\n",
      "Epoch 20, CIFAR-10 Batch 4:  Loss:     0.0584 Validation Accuracy: 0.636600\n",
      "Epoch 20, CIFAR-10 Batch 5:  Loss:     0.0465 Validation Accuracy: 0.650200\n",
      "Epoch 21, CIFAR-10 Batch 1:  Loss:     0.0765 Validation Accuracy: 0.663000\n",
      "Epoch 21, CIFAR-10 Batch 2:  Loss:     0.0396 Validation Accuracy: 0.648600\n",
      "Epoch 21, CIFAR-10 Batch 3:  Loss:     0.0421 Validation Accuracy: 0.622600\n",
      "Epoch 21, CIFAR-10 Batch 4:  Loss:     0.0513 Validation Accuracy: 0.632600\n",
      "Epoch 21, CIFAR-10 Batch 5:  Loss:     0.0412 Validation Accuracy: 0.642800\n",
      "Epoch 22, CIFAR-10 Batch 1:  Loss:     0.0609 Validation Accuracy: 0.657200\n",
      "Epoch 22, CIFAR-10 Batch 2:  Loss:     0.0289 Validation Accuracy: 0.627600\n",
      "Epoch 22, CIFAR-10 Batch 3:  Loss:     0.0433 Validation Accuracy: 0.620800\n",
      "Epoch 22, CIFAR-10 Batch 4:  Loss:     0.0533 Validation Accuracy: 0.622800\n",
      "Epoch 22, CIFAR-10 Batch 5:  Loss:     0.0324 Validation Accuracy: 0.641800\n",
      "Epoch 23, CIFAR-10 Batch 1:  Loss:     0.0629 Validation Accuracy: 0.645400\n",
      "Epoch 23, CIFAR-10 Batch 2:  Loss:     0.0285 Validation Accuracy: 0.618400\n",
      "Epoch 23, CIFAR-10 Batch 3:  Loss:     0.0377 Validation Accuracy: 0.619200\n",
      "Epoch 23, CIFAR-10 Batch 4:  Loss:     0.0477 Validation Accuracy: 0.613600\n",
      "Epoch 23, CIFAR-10 Batch 5:  Loss:     0.0238 Validation Accuracy: 0.638400\n",
      "Epoch 24, CIFAR-10 Batch 1:  Loss:     0.0454 Validation Accuracy: 0.645400\n",
      "Epoch 24, CIFAR-10 Batch 2:  Loss:     0.0233 Validation Accuracy: 0.620400\n",
      "Epoch 24, CIFAR-10 Batch 3:  Loss:     0.0340 Validation Accuracy: 0.624000\n",
      "Epoch 24, CIFAR-10 Batch 4:  Loss:     0.0299 Validation Accuracy: 0.634200\n",
      "Epoch 24, CIFAR-10 Batch 5:  Loss:     0.0206 Validation Accuracy: 0.615800\n",
      "Epoch 25, CIFAR-10 Batch 1:  Loss:     0.0420 Validation Accuracy: 0.638600\n",
      "Epoch 25, CIFAR-10 Batch 2:  Loss:     0.0218 Validation Accuracy: 0.611600\n",
      "Epoch 25, CIFAR-10 Batch 3:  Loss:     0.0338 Validation Accuracy: 0.618600\n",
      "Epoch 25, CIFAR-10 Batch 4:  Loss:     0.0272 Validation Accuracy: 0.633200\n",
      "Epoch 25, CIFAR-10 Batch 5:  Loss:     0.0213 Validation Accuracy: 0.610600\n",
      "Epoch 26, CIFAR-10 Batch 1:  Loss:     0.0305 Validation Accuracy: 0.642600\n",
      "Epoch 26, CIFAR-10 Batch 2:  Loss:     0.0302 Validation Accuracy: 0.591000\n",
      "Epoch 26, CIFAR-10 Batch 3:  Loss:     0.0308 Validation Accuracy: 0.623400\n",
      "Epoch 26, CIFAR-10 Batch 4:  Loss:     0.0230 Validation Accuracy: 0.631000\n",
      "Epoch 26, CIFAR-10 Batch 5:  Loss:     0.0184 Validation Accuracy: 0.610800\n",
      "Epoch 27, CIFAR-10 Batch 1:  Loss:     0.0280 Validation Accuracy: 0.633800\n",
      "Epoch 27, CIFAR-10 Batch 2:  Loss:     0.0651 Validation Accuracy: 0.585000\n",
      "Epoch 27, CIFAR-10 Batch 3:  Loss:     0.0189 Validation Accuracy: 0.615000\n",
      "Epoch 27, CIFAR-10 Batch 4:  Loss:     0.0236 Validation Accuracy: 0.618400\n",
      "Epoch 27, CIFAR-10 Batch 5:  Loss:     0.0135 Validation Accuracy: 0.643800\n",
      "Epoch 28, CIFAR-10 Batch 1:  Loss:     0.0310 Validation Accuracy: 0.621200\n",
      "Epoch 28, CIFAR-10 Batch 2:  Loss:     0.0071 Validation Accuracy: 0.622400\n",
      "Epoch 28, CIFAR-10 Batch 3:  Loss:     0.0145 Validation Accuracy: 0.631800\n",
      "Epoch 28, CIFAR-10 Batch 4:  Loss:     0.0186 Validation Accuracy: 0.617000\n",
      "Epoch 28, CIFAR-10 Batch 5:  Loss:     0.0125 Validation Accuracy: 0.628600\n",
      "Epoch 29, CIFAR-10 Batch 1:  Loss:     0.0413 Validation Accuracy: 0.617000\n",
      "Epoch 29, CIFAR-10 Batch 2:  Loss:     0.0088 Validation Accuracy: 0.642600\n",
      "Epoch 29, CIFAR-10 Batch 3:  Loss:     0.0126 Validation Accuracy: 0.631400\n",
      "Epoch 29, CIFAR-10 Batch 4:  Loss:     0.0122 Validation Accuracy: 0.634000\n",
      "Epoch 29, CIFAR-10 Batch 5:  Loss:     0.0109 Validation Accuracy: 0.630200\n",
      "Epoch 30, CIFAR-10 Batch 1:  Loss:     0.0168 Validation Accuracy: 0.609600\n",
      "Epoch 30, CIFAR-10 Batch 2:  Loss:     0.0126 Validation Accuracy: 0.634000\n",
      "Epoch 30, CIFAR-10 Batch 3:  Loss:     0.0078 Validation Accuracy: 0.622600\n",
      "Epoch 30, CIFAR-10 Batch 4:  Loss:     0.0068 Validation Accuracy: 0.604200\n",
      "Epoch 30, CIFAR-10 Batch 5:  Loss:     0.0130 Validation Accuracy: 0.625400\n"
     ]
    }
   ],
   "source": [
    "\"\"\"\n",
    "DON'T MODIFY ANYTHING IN THIS CELL\n",
    "\"\"\"\n",
    "save_model_path = './image_classification'\n",
    "\n",
    "print('Training...')\n",
    "with tf.Session() as sess:\n",
    "    # Initializing the variables\n",
    "    sess.run(tf.global_variables_initializer())\n",
    "    \n",
    "    # Training cycle\n",
    "    for epoch in range(epochs):\n",
    "        \n",
    "        # Loop over all batches\n",
    "        n_batches = 5\n",
    "        for batch_i in range(1, n_batches + 1):\n",
    "            for batch_features, batch_labels in helper.load_preprocess_training_batch(batch_i, batch_size):\n",
    "                train_neural_network(sess, optimizer, keep_probability, batch_features, batch_labels)\n",
    "            print('Epoch {:>2}, CIFAR-10 Batch {}:  '.format(epoch + 1, batch_i), end='')\n",
    "            print_stats(sess, batch_features, batch_labels, cost, accuracy)\n",
    "            \n",
    "    # Save Model\n",
    "    saver = tf.train.Saver()\n",
    "    save_path = saver.save(sess, save_model_path)"
   ]
  },
  {
   "cell_type": "markdown",
   "metadata": {
    "deletable": true,
    "editable": true
   },
   "source": [
    "# Checkpoint\n",
    "The model has been saved to disk.\n",
    "## Test Model\n",
    "Test your model against the test dataset.  This will be your final accuracy. You should have an accuracy greater than 50%. If you don't, keep tweaking the model architecture and parameters."
   ]
  },
  {
   "cell_type": "code",
   "execution_count": 80,
   "metadata": {
    "collapsed": false,
    "deletable": true,
    "editable": true
   },
   "outputs": [
    {
     "name": "stdout",
     "output_type": "stream",
     "text": [
      "Testing Accuracy: 0.62744140625\n",
      "\n"
     ]
    },
    {
     "data": {
      "image/png": "[encoded data removed]",
      "text/plain": [
       "<matplotlib.figure.Figure at 0x7f627199fcc0>"
      ]
     },
     "metadata": {
      "image/png": {
       "height": 319,
       "width": 355
      }
     },
     "output_type": "display_data"
    }
   ],
   "source": [
    "\"\"\"\n",
    "DON'T MODIFY ANYTHING IN THIS CELL\n",
    "\"\"\"\n",
    "%matplotlib inline\n",
    "%config InlineBackend.figure_format = 'retina'\n",
    "\n",
    "import tensorflow as tf\n",
    "import pickle\n",
    "import helper\n",
    "import random\n",
    "\n",
    "# Set batch size if not already set\n",
    "try:\n",
    "    if batch_size:\n",
    "        pass\n",
    "except NameError:\n",
    "    batch_size = 64\n",
    "\n",
    "save_model_path = './image_classification'\n",
    "n_samples = 4\n",
    "top_n_predictions = 3\n",
    "\n",
    "def test_model():\n",
    "    \"\"\"\n",
    "    Test the saved model against the test dataset\n",
    "    \"\"\"\n",
    "\n",
    "    test_features, test_labels = pickle.load(open('preprocess_training.p', mode='rb'))\n",
    "    loaded_graph = tf.Graph()\n",
    "\n",
    "    with tf.Session(graph=loaded_graph) as sess:\n",
    "        # Load model\n",
    "        loader = tf.train.import_meta_graph(save_model_path + '.meta')\n",
    "        loader.restore(sess, save_model_path)\n",
    "\n",
    "        # Get Tensors from loaded model\n",
    "        loaded_x = loaded_graph.get_tensor_by_name('x:0')\n",
    "        loaded_y = loaded_graph.get_tensor_by_name('y:0')\n",
    "        loaded_keep_prob = loaded_graph.get_tensor_by_name('keep_prob:0')\n",
    "        loaded_logits = loaded_graph.get_tensor_by_name('logits:0')\n",
    "        loaded_acc = loaded_graph.get_tensor_by_name('accuracy:0')\n",
    "        \n",
    "        # Get accuracy in batches for memory limitations\n",
    "        test_batch_acc_total = 0\n",
    "        test_batch_count = 0\n",
    "        \n",
    "        for train_feature_batch, train_label_batch in helper.batch_features_labels(test_features, test_labels, batch_size):\n",
    "            test_batch_acc_total += sess.run(\n",
    "                loaded_acc,\n",
    "                feed_dict={loaded_x: train_feature_batch, loaded_y: train_label_batch, loaded_keep_prob: 1.0})\n",
    "            test_batch_count += 1\n",
    "\n",
    "        print('Testing Accuracy: {}\\n'.format(test_batch_acc_total/test_batch_count))\n",
    "\n",
    "        # Print Random Samples\n",
    "        random_test_features, random_test_labels = tuple(zip(*random.sample(list(zip(test_features, test_labels)), n_samples)))\n",
    "        random_test_predictions = sess.run(\n",
    "            tf.nn.top_k(tf.nn.softmax(loaded_logits), top_n_predictions),\n",
    "            feed_dict={loaded_x: random_test_features, loaded_y: random_test_labels, loaded_keep_prob: 1.0})\n",
    "        helper.display_image_predictions(random_test_features, random_test_labels, random_test_predictions)\n",
    "\n",
    "\n",
    "test_model()"
   ]
  },
  {
   "cell_type": "markdown",
   "metadata": {
    "deletable": true,
    "editable": true
   },
   "source": [
    "## Why 50-70% Accuracy?\n",
    "You might be wondering why you can't get an accuracy any higher. First things first, 50% isn't bad for a simple CNN.  Pure guessing would get you 10% accuracy. However, you might notice people are getting scores [well above 70%](http://rodrigob.github.io/are_we_there_yet/build/classification_datasets_results.html#43494641522d3130).  That's because we haven't taught you all there is to know about neural networks. We still need to cover a few more techniques.\n",
    "## Submitting This Project\n",
    "When submitting this project, make sure to run all the cells before saving the notebook.  Save the notebook file as \"dlnd_image_classification.ipynb\" and save it as a HTML file under \"File\" -> \"Download as\".  Include the \"helper.py\" and \"problem_unittests.py\" files in your submission."
   ]
  }
 ],
 "metadata": {
  "kernelspec": {
   "display_name": "Python 3",
   "language": "python",
   "name": "python3"
  },
  "language_info": {
   "codemirror_mode": {
    "name": "ipython",
    "version": 3
   },
   "file_extension": ".py",
   "mimetype": "text/x-python",
   "name": "python",
   "nbconvert_exporter": "python",
   "pygments_lexer": "ipython3",
   "version": "3.5.2"
  },
  "widgets": {
   "state": {},
   "version": "1.1.2"
  }
 },
 "nbformat": 4,
 "nbformat_minor": 0
}
